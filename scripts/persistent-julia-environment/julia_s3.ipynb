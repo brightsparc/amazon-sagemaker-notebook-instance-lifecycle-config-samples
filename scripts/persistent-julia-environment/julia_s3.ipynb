{
 "cells": [
  {
   "cell_type": "markdown",
   "metadata": {},
   "source": [
    "## Julia AWS\n",
    "\n",
    "This notebook demonstrates putting a key into a new AWS S3 bucket.\n",
    "\n",
    "## Import packages\n",
    "\n",
    "Add [AWSCore](https://github.com/JuliaCloud/AWSCore.jl) and [AWSS3](https://github.com/JuliaCloud/AWSS3.jl) libraries"
   ]
  },
  {
   "cell_type": "code",
   "execution_count": null,
   "metadata": {},
   "outputs": [],
   "source": [
    "import Pkg"
   ]
  },
  {
   "cell_type": "code",
   "execution_count": null,
   "metadata": {},
   "outputs": [],
   "source": [
    "Pkg.add(\"AWSCore\")\n",
    "using AWSCore"
   ]
  },
  {
   "cell_type": "code",
   "execution_count": null,
   "metadata": {},
   "outputs": [],
   "source": [
    "Pkg.add(\"AWSS3\")\n",
    "using AWSS3"
   ]
  },
  {
   "cell_type": "markdown",
   "metadata": {},
   "source": [
    "### Configure concredentails\n",
    "\n",
    "Specify the config and region"
   ]
  },
  {
   "cell_type": "code",
   "execution_count": null,
   "metadata": {},
   "outputs": [],
   "source": [
    "region_name = \"ap-southeast-2\"\n",
    "aws = AWSCore.aws_config(region=region_name)\n",
    "account_id = aws_account_number(aws)"
   ]
  },
  {
   "cell_type": "markdown",
   "metadata": {},
   "source": [
    "### Write to Bucket\n",
    "\n",
    "Create new bucket and write key"
   ]
  },
  {
   "cell_type": "code",
   "execution_count": null,
   "metadata": {},
   "outputs": [],
   "source": [
    "bucket_name = \"julia-$region_name-$account_id\"\n",
    "s3_create_bucket(aws, bucket_name)"
   ]
  },
  {
   "cell_type": "code",
   "execution_count": null,
   "metadata": {},
   "outputs": [],
   "source": [
    "s3_put(aws, bucket_name, \"key\", \"Hello!\")"
   ]
  },
  {
   "cell_type": "code",
   "execution_count": null,
   "metadata": {},
   "outputs": [],
   "source": [
    "print(String(s3_get(aws, bucket_name, \"key\")))"
   ]
  }
 ],
 "metadata": {
  "kernelspec": {
   "display_name": "Julia 1.0.3",
   "language": "julia",
   "name": "julia-1.0"
  },
  "language_info": {
   "file_extension": ".jl",
   "mimetype": "application/julia",
   "name": "julia",
   "version": "1.0.3"
  }
 },
 "nbformat": 4,
 "nbformat_minor": 2
}
