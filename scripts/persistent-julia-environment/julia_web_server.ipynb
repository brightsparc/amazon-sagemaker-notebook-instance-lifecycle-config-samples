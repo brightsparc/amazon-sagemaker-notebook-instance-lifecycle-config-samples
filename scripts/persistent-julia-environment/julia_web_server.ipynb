{
 "cells": [
  {
   "cell_type": "markdown",
   "metadata": {},
   "source": [
    "## Julia HTTP\n",
    "\n",
    "This notebook demonstrates running a HTTP sever and returning JSON\n",
    "\n",
    "## Import packages\n",
    "\n",
    "Add [HTTP](https://github.com/JuliaWeb/HTTP.jl) and [JSON2](https://github.com/quinnj/JSON2.jl) libraries"
   ]
  },
  {
   "cell_type": "code",
   "execution_count": null,
   "metadata": {},
   "outputs": [],
   "source": [
    "using Pkg\n",
    "Pkg.add(\"JSON2\")"
   ]
  },
  {
   "cell_type": "code",
   "execution_count": null,
   "metadata": {},
   "outputs": [],
   "source": [
    "using HTTP, JSON2"
   ]
  },
  {
   "cell_type": "markdown",
   "metadata": {},
   "source": [
    "Start an ansync web server listening on `localhost` and port `8080`"
   ]
  },
  {
   "cell_type": "code",
   "execution_count": null,
   "metadata": {},
   "outputs": [],
   "source": [
    "# Start async web sever \n",
    "@async HTTP.serve(\"127.0.0.1\", 8080) do request::HTTP.Request\n",
    "   @show request\n",
    "   @show request.method\n",
    "   @show HTTP.header(request, \"Content-Type\")\n",
    "   @show HTTP.payload(request)\n",
    "   try\n",
    "       return HTTP.Response(200, JSON2.write(Dict(\"hello\"=>\"world\")))\n",
    "   catch e\n",
    "       return HTTP.Response(404, \"Error: $e\")\n",
    "   end\n",
    "end"
   ]
  },
  {
   "cell_type": "markdown",
   "metadata": {},
   "source": [
    "Send a request to the webserver to get back json response"
   ]
  },
  {
   "cell_type": "code",
   "execution_count": null,
   "metadata": {},
   "outputs": [],
   "source": [
    "r = HTTP.request(\"GET\", \"http://localhost:8080\"; verbose=3)\n",
    "println(r.status)\n",
    "println(String(r.body))"
   ]
  }
 ],
 "metadata": {
  "kernelspec": {
   "display_name": "Julia 1.0.3",
   "language": "julia",
   "name": "julia-1.0"
  },
  "language_info": {
   "file_extension": ".jl",
   "mimetype": "application/julia",
   "name": "julia",
   "version": "1.0.3"
  }
 },
 "nbformat": 4,
 "nbformat_minor": 2
}
